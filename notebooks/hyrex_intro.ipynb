{
 "cells": [
  {
   "cell_type": "markdown",
   "id": "400feff1-465e-4a3c-a759-529c15fef49a",
   "metadata": {},
   "source": [
    "# Setup"
   ]
  },
  {
   "cell_type": "code",
   "execution_count": 71,
   "id": "77b9486d-cbcd-4cc4-ab83-3cfee7a4f676",
   "metadata": {},
   "outputs": [
    {
     "name": "stdout",
     "output_type": "stream",
     "text": [
      "The autoreload extension is already loaded. To reload it, use:\n",
      "  %reload_ext autoreload\n"
     ]
    }
   ],
   "source": [
    "%load_ext autoreload\n",
    "%autoreload 2"
   ]
  },
  {
   "cell_type": "code",
   "execution_count": 81,
   "id": "0489e22b-fecf-4a4f-9b31-2f6409ac9795",
   "metadata": {},
   "outputs": [],
   "source": [
    "import numpy as np\n",
    "import jax.numpy as jnp\n",
    "import matplotlib.pyplot as plt\n",
    "import matplotlib.pylab as pylab\n",
    "from scipy.interpolate import interp1d\n",
    "from diffrax import Kvaerno3\n",
    "import jax\n",
    "\n",
    "np.set_printoptions(threshold=np.inf)\n",
    "\n",
    "from jax import config\n",
    "config.update(\"jax_enable_x64\", True)\n",
    "\n",
    "import sys\n",
    "sys.path.append('..')\n",
    "\n",
    "from hyrex.hyrex import recomb_model\n",
    "\n",
    "from plot_params import params\n",
    "pylab.rcParams.update(params)\n",
    "\n",
    "cols_default = plt.rcParams['axes.prop_cycle'].by_key()['color']\n",
    "\n",
    "%matplotlib inline"
   ]
  },
  {
   "cell_type": "markdown",
   "id": "f318c8db-49ac-4e01-8195-a995be8c62ff",
   "metadata": {},
   "source": [
    "# Running HyRex"
   ]
  },
  {
   "cell_type": "code",
   "execution_count": 82,
   "id": "78a54eb4-cb6e-4368-8bbd-92b222a5cf91",
   "metadata": {},
   "outputs": [],
   "source": [
    "h = jnp.float64(0.7)\n",
    "omega_b = jnp.float64(0.0224)\n",
    "omega_cdm = jnp.float64(0.12)\n",
    "Neff = jnp.float64(3.044)\n",
    "YHe = jnp.float64(0.245)\n",
    "z_reion = 11\n",
    "Delta_z_reion = 0.5"
   ]
  },
  {
   "cell_type": "code",
   "execution_count": 83,
   "id": "7b0b4ff1-6f0a-4da0-ae85-ed21ce966e92",
   "metadata": {},
   "outputs": [],
   "source": [
    "rmodel = recomb_model()"
   ]
  },
  {
   "cell_type": "code",
   "execution_count": 92,
   "id": "e85be709-7a55-4c89-824e-e5ded1eae739",
   "metadata": {},
   "outputs": [],
   "source": [
    "# wrap inputs in jnp.asarray to avoid recompilation\n",
    "xe_full_reion, lna_full, Tm, lna_Tm = rmodel.get_history(jnp.asarray(h),\n",
    "                                                         jnp.asarray(omega_b),\n",
    "                                                         jnp.asarray(omega_cdm),\n",
    "                                                         jnp.asarray(Neff),\n",
    "                                                         jnp.asarray(YHe),\n",
    "                                                         jnp.asarray(z_reion), # defaults to 11\n",
    "                                                         jnp.asarray(Delta_z_reion) # defaults to 0.5\n",
    "                                                        )"
   ]
  },
  {
   "cell_type": "markdown",
   "id": "1e5d10d8-f6b6-46c2-992b-88e0fc191424",
   "metadata": {},
   "source": [
    "## An aside: `array_with_padding`"
   ]
  },
  {
   "cell_type": "markdown",
   "id": "a677608e-65af-4226-82c7-32c08ec60d82",
   "metadata": {},
   "source": [
    "`get_history` returns an `array_with_padding` object.  This is because our differential equation solver `diffrax` pads output arrays with `jnp.inf` to maintain a fixed array size at compile time.  The arrays returned by this computation retain this padding, but `array_with_padding` has built-in functions meant to help you extract only the parts of the array with finite values.\n",
    "\n",
    "\n",
    "So some care must be taken to extract array values.  Use either `.arr` or call with `()` to get array values:\n"
   ]
  },
  {
   "cell_type": "code",
   "execution_count": 93,
   "id": "60e21b6c-ec27-4323-b9ff-2e66e86ff71c",
   "metadata": {},
   "outputs": [
    {
     "name": "stdout",
     "output_type": "stream",
     "text": [
      "[-1. -1. -1. -1. -1. -1. -1. -1. -1. -1. -1. -1. -1. -1. -1. -1. -1. -1.\n",
      " -1. -1. -1. -1. -1. -1. -1. -1. -1. -1. -1. -1. -1. -1. -1. -1. -1. -1.\n",
      " -1. -1. -1. -1. -1. -1. -1. -1. -1. -1. -1. -1. -1. -1.]\n",
      "25646\n"
     ]
    }
   ],
   "source": [
    "z_full = jnp.exp(-lna_full.arr) - 1\n",
    "print(z_full[-50:])\n",
    "print(len(z_full))"
   ]
  },
  {
   "cell_type": "markdown",
   "id": "175c1b76-c4d6-4998-9d9d-d477f6005f77",
   "metadata": {},
   "source": [
    "The end of the array is all -1, since the end of `lna_full.arr` is all `jnp.inf`.  Let's truncate the array before the `inf`s start with `.lastnum`:"
   ]
  },
  {
   "cell_type": "code",
   "execution_count": 94,
   "id": "128b789c-ae8a-47e2-851a-53a70b598b32",
   "metadata": {},
   "outputs": [
    {
     "name": "stdout",
     "output_type": "stream",
     "text": [
      "[0.02564513 0.02513244 0.02462    0.02410782 0.02359589 0.02308422\n",
      " 0.02257281 0.02206165 0.02155075 0.0210401  0.02052971 0.02001957\n",
      " 0.01950969 0.01900006 0.01849069 0.01798157 0.01747271 0.0169641\n",
      " 0.01645574 0.01594764 0.01543979 0.0149322  0.01442486 0.01391778\n",
      " 0.01341094 0.01290436 0.01239804 0.01189197 0.01138615 0.01088058\n",
      " 0.01037527 0.00987021 0.0093654  0.00886084 0.00835654 0.00785248\n",
      " 0.00734868 0.00684513 0.00634184 0.00583879 0.005336   0.00483346\n",
      " 0.00433117 0.00382913 0.00332734 0.0028258  0.00232451 0.00182347\n",
      " 0.00132269 0.00082215]\n",
      "17977\n"
     ]
    }
   ],
   "source": [
    "z_full = jnp.exp(-lna_full.arr[:lna_full.lastnum]) - 1\n",
    "print(z_full[-50:])\n",
    "print(len(z_full))"
   ]
  },
  {
   "cell_type": "markdown",
   "id": "90b1ec29-ff94-4c04-bbc5-9958320edad0",
   "metadata": {},
   "source": [
    "Note the array got shorter, and we only converted finite values of `lna_full` to `z` (no more padding at the end).\n",
    "\n",
    "If you would like to access the last finite value of the output array, you can do so with `.lastval`:"
   ]
  },
  {
   "cell_type": "code",
   "execution_count": 95,
   "id": "ca5aab0c-108b-483f-9b08-b738619bf3db",
   "metadata": {},
   "outputs": [
    {
     "name": "stdout",
     "output_type": "stream",
     "text": [
      "-0.0003218128391413444\n"
     ]
    }
   ],
   "source": [
    "last_lna = lna_full.lastval\n",
    "print(last_lna)"
   ]
  },
  {
   "cell_type": "markdown",
   "id": "631dadd4-30ff-46cb-97cd-789e8cc65014",
   "metadata": {},
   "source": [
    "## Plotting HyRax results"
   ]
  },
  {
   "cell_type": "code",
   "execution_count": 96,
   "id": "918f544e-0977-49cc-84f7-432f1879ea5d",
   "metadata": {},
   "outputs": [
    {
     "data": {
      "text/plain": [
       "Text(0, 0.5, '$x_e$')"
      ]
     },
     "execution_count": 96,
     "metadata": {},
     "output_type": "execute_result"
    },
    {
     "data": {
      "image/png": "[encoded data removed]",
      "text/plain": [
       "<Figure size 443.077x360 with 1 Axes>"
      ]
     },
     "metadata": {
      "needs_background": "light"
     },
     "output_type": "display_data"
    }
   ],
   "source": [
    "plt.loglog(z_full,xe_full_reion.arr[:xe_full_reion.lastnum])    # padding size is the same for lna_full and\n",
    "                                                                # xe_full_reion, so either could be used to \n",
    "                                                                # index here\n",
    "plt.xlabel('$z$')\n",
    "plt.ylabel('$x_e$')"
   ]
  },
  {
   "cell_type": "markdown",
   "id": "4321e73d-cd50-4dad-bfeb-335530afc18b",
   "metadata": {},
   "source": [
    "For easy comparison, we store some output of HYREC-2 in `notebooks/HYREC-2_results`, which was run with parameters\n",
    "```\n",
    "h = jnp.float64(0.674)\n",
    "omega_b = jnp.float64(0.04)*h**2\n",
    "omega_cdm = jnp.float64(0.26)*h**2\n",
    "Neff = jnp.float64(3.044)\n",
    "YHe = jnp.float64(0.245)\n",
    "```\n",
    "and can compare the results:"
   ]
  },
  {
   "cell_type": "code",
   "execution_count": 97,
   "id": "acd21134-3347-4f96-948b-db5f0889d5ad",
   "metadata": {},
   "outputs": [],
   "source": [
    "hyrec2out = np.loadtxt('HYREC-2_results/output_xe.dat')"
   ]
  },
  {
   "cell_type": "code",
   "execution_count": 98,
   "id": "dfcc7f5b-dd42-4b03-9df5-0996217fd6d4",
   "metadata": {},
   "outputs": [],
   "source": [
    "z_hyrec = hyrec2out[:,0]\n",
    "xe_hyrec = hyrec2out[:,1]\n",
    "Tm_hyrec = hyrec2out[:,2]"
   ]
  },
  {
   "cell_type": "code",
   "execution_count": 99,
   "id": "803835c7-d821-47a8-9566-2a2807dc8810",
   "metadata": {},
   "outputs": [
    {
     "data": {
      "text/plain": [
       "<matplotlib.legend.Legend at 0x3589e03b0>"
      ]
     },
     "execution_count": 99,
     "metadata": {},
     "output_type": "execute_result"
    },
    {
     "data": {
      "image/png": "[encoded data removed]",
      "text/plain": [
       "<Figure size 443.077x360 with 1 Axes>"
      ]
     },
     "metadata": {
      "needs_background": "light"
     },
     "output_type": "display_data"
    }
   ],
   "source": [
    "plt.loglog(z_hyrec,xe_hyrec,label='HYREC-2')\n",
    "plt.loglog(z_full,xe_full_reion.arr[:xe_full_reion.lastnum],label='HyRex')\n",
    "\n",
    "\n",
    "plt.xlabel('$z$')\n",
    "plt.ylabel('$x_e$')\n",
    "\n",
    "plt.legend()"
   ]
  },
  {
   "cell_type": "markdown",
   "id": "d35617d2-4658-4cfa-b157-d35118621161",
   "metadata": {},
   "source": [
    "The difference at low $z$ is due to reionization, which is not computed in HYREC-2 output.\n",
    "\n",
    "We can add that in by hand (or alternatively set `z_reion` and `Delta_z_reion` to 0 in the HyRex call):"
   ]
  },
  {
   "cell_type": "code",
   "execution_count": 55,
   "id": "d95c8e8c-72fb-4915-bcff-3f9bc7f17b3c",
   "metadata": {},
   "outputs": [],
   "source": [
    "fHe = YHe / 4 / (1-YHe)\n",
    "z = z_hyrec\n",
    "y = (1+z)**(3./2)\n",
    "\n",
    "y_reion = (1+z_reion)**(3./2)\n",
    "Delta_y_reion = 3./2 * jnp.sqrt(1+z_reion) * Delta_z_reion\n",
    "tanh_arg = (y_reion - y) / Delta_y_reion\n",
    "\n",
    "xe_reion_correction = (1+fHe)/2 * (1 + jnp.tanh(tanh_arg))\n",
    "hyrec_with_reion =  xe_hyrec + xe_reion_correction"
   ]
  },
  {
   "cell_type": "code",
   "execution_count": 56,
   "id": "90b2d1c9-c1df-497a-8eb8-37382149838c",
   "metadata": {},
   "outputs": [
    {
     "data": {
      "text/plain": [
       "<matplotlib.legend.Legend at 0x144058710>"
      ]
     },
     "execution_count": 56,
     "metadata": {},
     "output_type": "execute_result"
    },
    {
     "data": {
      "image/png": "[encoded data removed]",
      "text/plain": [
       "<Figure size 443.077x360 with 1 Axes>"
      ]
     },
     "metadata": {
      "needs_background": "light"
     },
     "output_type": "display_data"
    }
   ],
   "source": [
    "plt.loglog(z_hyrec,hyrec_with_reion,label='HYREC-2')\n",
    "plt.loglog(z_full,xe_full_reion.arr[:xe_full_reion.lastnum],label='HyRex')\n",
    "\n",
    "\n",
    "plt.xlabel('$z$')\n",
    "plt.ylabel('$x_e$')\n",
    "\n",
    "plt.legend()"
   ]
  },
  {
   "cell_type": "markdown",
   "id": "17fe777f-801c-4d0d-a083-bdc0e59fa532",
   "metadata": {},
   "source": [
    "We can see that the agreement sub percent-level:"
   ]
  },
  {
   "cell_type": "code",
   "execution_count": 67,
   "id": "9f12569c-6de6-4697-9449-b15a593cfc66",
   "metadata": {},
   "outputs": [
    {
     "data": {
      "text/plain": [
       "Text(0, 0.5, '$\\\\frac{x_{e,{\\\\rm{HyRex}}} - x_{e,\\\\rm{HYREC2}}}{x_{e,\\\\rm{HYREC2}}}$')"
      ]
     },
     "execution_count": 67,
     "metadata": {},
     "output_type": "execute_result"
    },
    {
     "data": {
      "image/png": "[encoded data removed]",
      "text/plain": [
       "<Figure size 443.077x360 with 1 Axes>"
      ]
     },
     "metadata": {
      "needs_background": "light"
     },
     "output_type": "display_data"
    }
   ],
   "source": [
    "xe_hyrex_interp = interp1d(z_full,xe_full_reion.arr[:xe_full_reion.lastnum])\n",
    "plt.loglog(z_hyrec,np.abs(xe_hyrex_interp(z_hyrec)-hyrec_with_reion)/hyrec_with_reion)\n",
    "plt.xlabel('$z$')\n",
    "plt.ylabel(r'$\\frac{x_{e,{\\rm{HyRex}}} - x_{e,\\rm{HYREC2}}}{x_{e,\\rm{HYREC2}}}$')"
   ]
  },
  {
   "cell_type": "code",
   "execution_count": 61,
   "id": "aa568643-2a87-4f16-845b-461efe7e20c5",
   "metadata": {},
   "outputs": [
    {
     "data": {
      "text/plain": [
       "Array(0.00623644, dtype=float64)"
      ]
     },
     "execution_count": 61,
     "metadata": {},
     "output_type": "execute_result"
    }
   ],
   "source": [
    "max(np.abs(xe_hyrex_interp(z_hyrec)-hyrec_with_reion)/hyrec_with_reion)"
   ]
  },
  {
   "cell_type": "code",
   "execution_count": null,
   "id": "c46f413d-9259-4dbb-902d-7d99445ee849",
   "metadata": {},
   "outputs": [],
   "source": []
  }
 ],
 "metadata": {
  "kernelspec": {
   "display_name": "Python 3 (ipykernel)",
   "language": "python",
   "name": "python3"
  },
  "language_info": {
   "codemirror_mode": {
    "name": "ipython",
    "version": 3
   },
   "file_extension": ".py",
   "mimetype": "text/x-python",
   "name": "python",
   "nbconvert_exporter": "python",
   "pygments_lexer": "ipython3",
   "version": "3.12.11"
  }
 },
 "nbformat": 4,
 "nbformat_minor": 5
}
